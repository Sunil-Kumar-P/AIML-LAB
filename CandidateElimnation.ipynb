{
 "cells": [
  {
   "cell_type": "code",
   "execution_count": 41,
   "metadata": {
    "executionInfo": {
     "elapsed": 28,
     "status": "ok",
     "timestamp": 1665994392998,
     "user": {
      "displayName": "Ms J Suneetha",
      "userId": "05934594631439864851"
     },
     "user_tz": -330
    },
    "id": "8X53WWjJXzNg"
   },
   "outputs": [],
   "source": [
    "def g_0(n):\n",
    "    return (\"?\",)*n\n",
    "\n",
    "def s_0(n):\n",
    "    return ('0',)*n"
   ]
  },
  {
   "cell_type": "code",
   "execution_count": 42,
   "metadata": {
    "colab": {
     "base_uri": "https://localhost:8080/"
    },
    "executionInfo": {
     "elapsed": 26,
     "status": "ok",
     "timestamp": 1665994392998,
     "user": {
      "displayName": "Ms J Suneetha",
      "userId": "05934594631439864851"
     },
     "user_tz": -330
    },
    "id": "l3vV3jw9XzNg",
    "outputId": "e65bb885-c959-406c-c015-a71dd90b6fde"
   },
   "outputs": [],
   "source": [
    "def more_general(h1, h2):\n",
    "    more_general_parts = []\n",
    "    for x, y in zip(h1, h2):\n",
    "        mg = x == \"?\" or (x != \"0\" and (x == y or y == \"0\"))\n",
    "        more_general_parts.append(mg)\n",
    "    return all(more_general_parts)"
   ]
  },
  {
   "cell_type": "code",
   "execution_count": 43,
   "metadata": {
    "executionInfo": {
     "elapsed": 24,
     "status": "ok",
     "timestamp": 1665994392999,
     "user": {
      "displayName": "Ms J Suneetha",
      "userId": "05934594631439864851"
     },
     "user_tz": -330
    },
    "id": "msyU5aNBXzNh"
   },
   "outputs": [],
   "source": [
    "def fulfills(example, hypothesis):\n",
    "    return more_general(hypothesis, example)\n",
    "\n",
    "def min_generalizations(h, x):\n",
    "    h_new = list(h)\n",
    "    for i in range(len(h)):\n",
    "        if not fulfills(x[i:i+1], h[i:i+1]):\n",
    "            h_new[i] = '?' if h[i] != '0' else x[i]\n",
    "    return [tuple(h_new)]"
   ]
  },
  {
   "cell_type": "code",
   "execution_count": 44,
   "metadata": {
    "executionInfo": {
     "elapsed": 19,
     "status": "ok",
     "timestamp": 1665994393000,
     "user": {
      "displayName": "Ms J Suneetha",
      "userId": "05934594631439864851"
     },
     "user_tz": -330
    },
    "id": "Y2vIE6R2XzNj"
   },
   "outputs": [],
   "source": [
    "def min_specializations(h, domains, x):\n",
    "    results = []\n",
    "    for i in range(len(h)):\n",
    "        if h[i] == \"?\":\n",
    "            for val in domains[i]:\n",
    "                if x[i] != val:\n",
    "                    h_new = h[:i] + (val,) + h[i+1:]\n",
    "                    results.append(h_new)\n",
    "        elif h[i] != \"0\":\n",
    "            h_new = h[:i] + ('0',) + h[i+1:]\n",
    "            results.append(h_new)\n",
    "    return results"
   ]
  },
  {
   "cell_type": "code",
   "execution_count": 45,
   "metadata": {
    "colab": {
     "base_uri": "https://localhost:8080/",
     "height": 237
    },
    "executionInfo": {
     "elapsed": 15,
     "status": "error",
     "timestamp": 1665994393001,
     "user": {
      "displayName": "Ms J Suneetha",
      "userId": "05934594631439864851"
     },
     "user_tz": -330
    },
    "id": "oP73LHbhXzNk",
    "outputId": "8fffe0bd-7a6c-4031-f071-aa189bbabb37"
   },
   "outputs": [
    {
     "data": {
      "text/plain": [
       "[('Big', 'Red', 'Circle', 'N'),\n",
       " ('Small', 'Red', 'Triangle', 'N'),\n",
       " ('Small', 'Red', 'Circle', 'Y'),\n",
       " ('Big', 'Blue', 'Circle', 'N'),\n",
       " ('Small', 'Blue', 'Circle', 'Y')]"
      ]
     },
     "execution_count": 45,
     "metadata": {},
     "output_type": "execute_result"
    }
   ],
   "source": [
    "import csv\n",
    "\n",
    "# with open('enjoySport.csv')  as csvFile:\n",
    "#         examples = [tuple(line)[1:] for line in csv.reader(csvFile)]\n",
    "# examples=examples[1:]\n",
    "with open('shapes.csv')  as csvFile:\n",
    "        examples = [tuple(line)[1:] for line in csv.reader(csvFile)]\n",
    "examples=examples[1:]\n",
    "examples"
   ]
  },
  {
   "cell_type": "code",
   "execution_count": 46,
   "metadata": {
    "executionInfo": {
     "elapsed": 13,
     "status": "aborted",
     "timestamp": 1665994393001,
     "user": {
      "displayName": "Ms J Suneetha",
      "userId": "05934594631439864851"
     },
     "user_tz": -330
    },
    "id": "6G958L-hXzNk"
   },
   "outputs": [
    {
     "data": {
      "text/plain": [
       "[['Big', 'Small'], ['Blue', 'Red'], ['Circle', 'Triangle'], ['N', 'Y']]"
      ]
     },
     "execution_count": 46,
     "metadata": {},
     "output_type": "execute_result"
    }
   ],
   "source": [
    "def get_domains(examples):\n",
    "    d = [set() for i in examples[0]]\n",
    "    for x in examples:\n",
    "        for i, xi in enumerate(x):\n",
    "            d[i].add(xi)\n",
    "    return [list(sorted(x)) for x in d]\n",
    "\n",
    "get_domains(examples)"
   ]
  },
  {
   "cell_type": "code",
   "execution_count": 47,
   "metadata": {
    "executionInfo": {
     "elapsed": 13,
     "status": "aborted",
     "timestamp": 1665994393002,
     "user": {
      "displayName": "Ms J Suneetha",
      "userId": "05934594631439864851"
     },
     "user_tz": -330
    },
    "id": "mJ1zZPxCXzNm"
   },
   "outputs": [],
   "source": [
    "def generalize_S(x, G, S):\n",
    "    S_prev = list(S)\n",
    "    for s in S_prev:\n",
    "        if s not in S:\n",
    "            continue\n",
    "        if not fulfills(x, s):\n",
    "            S.remove(s)\n",
    "            Splus = min_generalizations(s, x)\n",
    "            S.update([h for h in Splus if any([more_general(g,h) \n",
    "                                               for g in G])])\n",
    "            S.difference_update([h for h in S if \n",
    "                                 any([more_general(h, h1) \n",
    "                                      for h1 in S if h != h1])])\n",
    "    return S"
   ]
  },
  {
   "cell_type": "code",
   "execution_count": 48,
   "metadata": {
    "executionInfo": {
     "elapsed": 13,
     "status": "aborted",
     "timestamp": 1665994393002,
     "user": {
      "displayName": "Ms J Suneetha",
      "userId": "05934594631439864851"
     },
     "user_tz": -330
    },
    "id": "JhQOifIlXzNm"
   },
   "outputs": [],
   "source": [
    "def specialize_G(x, domains, G, S):\n",
    "    G_prev = list(G)\n",
    "    for g in G_prev:\n",
    "        if g not in G:\n",
    "            continue\n",
    "        if fulfills(x, g):\n",
    "            G.remove(g)\n",
    "            Gminus = min_specializations(g, domains, x)\n",
    "            G.update([h for h in Gminus if any([more_general(h, s) for s in S])])\n",
    "            G.difference_update([h for h in G if any([more_general(g1, h) for g1 in G if h != g1])])\n",
    "    return G"
   ]
  },
  {
   "cell_type": "code",
   "execution_count": 49,
   "metadata": {
    "executionInfo": {
     "elapsed": 12,
     "status": "aborted",
     "timestamp": 1665994393002,
     "user": {
      "displayName": "Ms J Suneetha",
      "userId": "05934594631439864851"
     },
     "user_tz": -330
    },
    "id": "tvN6iBEDXzNn"
   },
   "outputs": [
    {
     "name": "stdout",
     "output_type": "stream",
     "text": [
      "\n",
      " S[0]: {('0', '0', '0')}\n",
      " G[0]: {('?', '?', '?')}\n",
      "\n",
      " S[1]: {('0', '0', '0')}\n",
      " G[1]: {('?', '?', 'Triangle'), ('Small', '?', '?'), ('?', 'Blue', '?')}\n",
      "\n",
      " S[2]: {('0', '0', '0')}\n",
      " G[2]: {('?', 'Blue', '?'), ('Big', '?', 'Triangle'), ('Small', '?', 'Circle')}\n",
      "\n",
      " S[3]: {('Small', 'Red', 'Circle')}\n",
      " G[3]: {('Small', '?', 'Circle')}\n",
      "\n",
      " S[4]: {('Small', 'Red', 'Circle')}\n",
      " G[4]: {('Small', '?', 'Circle')}\n",
      "\n",
      " S[5]: {('Small', '?', 'Circle')}\n",
      " G[5]: {('Small', '?', 'Circle')}\n"
     ]
    }
   ],
   "source": [
    "#candidate elimination\n",
    "domains = get_domains(examples)[:-1]\n",
    "\n",
    "G = set([g_0(len(domains))])\n",
    "S = set([s_0(len(domains))])\n",
    "i=0\n",
    "print(f'\\n S[{i}]: {S}')\n",
    "print(f' G[{i}]: {G}')\n",
    "\n",
    "for xcx in examples:\n",
    "    i=i+1\n",
    "    xcx=list(xcx)\n",
    "\n",
    "    x, cx = xcx[:-1], xcx[-1]  # Splitting data into attributes and decisions\n",
    "    if cx=='Y': # x is positive example\n",
    "        G = {g for g in G if fulfills(x, g)}\n",
    "        S = generalize_S(x, G, S)\n",
    "    else: # x is negative example\n",
    "        S = {s for s in S if not fulfills(x, s)}\n",
    "        G = specialize_G(x, domains, G, S)\n",
    "    print(f'\\n S[{i}]: {S}')\n",
    "    print(f' G[{i}]: {G}')"
   ]
  },
  {
   "cell_type": "code",
   "execution_count": null,
   "metadata": {
    "executionInfo": {
     "elapsed": 12,
     "status": "aborted",
     "timestamp": 1665994393002,
     "user": {
      "displayName": "Ms J Suneetha",
      "userId": "05934594631439864851"
     },
     "user_tz": -330
    },
    "id": "MHcxfwjxXzNo"
   },
   "outputs": [],
   "source": []
  },
  {
   "cell_type": "code",
   "execution_count": null,
   "metadata": {},
   "outputs": [],
   "source": []
  }
 ],
 "metadata": {
  "colab": {
   "provenance": []
  },
  "kernelspec": {
   "display_name": "Python 3 (ipykernel)",
   "language": "python",
   "name": "python3"
  },
  "language_info": {
   "codemirror_mode": {
    "name": "ipython",
    "version": 3
   },
   "file_extension": ".py",
   "mimetype": "text/x-python",
   "name": "python",
   "nbconvert_exporter": "python",
   "pygments_lexer": "ipython3",
   "version": "3.10.4"
  }
 },
 "nbformat": 4,
 "nbformat_minor": 4
}
