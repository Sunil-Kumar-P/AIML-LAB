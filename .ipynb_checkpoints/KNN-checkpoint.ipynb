{
  "cells": [
    {
      "cell_type": "code",
      "execution_count": null,
      "metadata": {
        "id": "jQKF_xID2Jbf"
      },
      "outputs": [],
      "source": [
        "#import libraries\n",
        "import numpy as np\n",
        "import matplotlib.pyplot as plt\n",
        "import pandas as pd\n",
        "#load iris dataset\n",
        "from sklearn.datasets import load_iris\n",
        "iris=load_iris()\n",
        "X=iris.data # features\n",
        "y=iris.target # target"
      ]
    },
    {
      "cell_type": "code",
      "execution_count": null,
      "metadata": {
        "id": "O_EO-VW62Jbk",
        "outputId": "976bda8b-69ab-4a77-afc9-1739a9717b1c",
        "colab": {
          "base_uri": "https://localhost:8080/"
        }
      },
      "outputs": [
        {
          "output_type": "stream",
          "name": "stdout",
          "text": [
            ".. _iris_dataset:\n",
            "\n",
            "Iris plants dataset\n",
            "--------------------\n",
            "\n",
            "**Data Set Characteristics:**\n",
            "\n",
            "    :Number of Instances: 150 (50 in each of three classes)\n",
            "    :Number of Attributes: 4 numeric, predictive attributes and the class\n",
            "    :Attribute Information:\n",
            "        - sepal length in cm\n",
            "        - sepal width in cm\n",
            "        - petal length in cm\n",
            "        - petal width in cm\n",
            "        - class:\n",
            "                - Iris-Setosa\n",
            "                - Iris-Versicolour\n",
            "                - Iris-Virginica\n",
            "                \n",
            "    :Summary Statistics:\n",
            "\n",
            "    ============== ==== ==== ======= ===== ====================\n",
            "                    Min  Max   Mean    SD   Class Correlation\n",
            "    ============== ==== ==== ======= ===== ====================\n",
            "    sepal length:   4.3  7.9   5.84   0.83    0.7826\n",
            "    sepal width:    2.0  4.4   3.05   0.43   -0.4194\n",
            "    petal length:   1.0  6.9   3.76   1.76    0.9490  (high!)\n",
            "    petal width:    0.1  2.5   1.20   0.76    0.9565  (high!)\n",
            "    ============== ==== ==== ======= ===== ====================\n",
            "\n",
            "    :Missing Attribute Values: None\n",
            "    :Class Distribution: 33.3% for each of 3 classes.\n",
            "    :Creator: R.A. Fisher\n",
            "    :Donor: Michael Marshall (MARSHALL%PLU@io.arc.nasa.gov)\n",
            "    :Date: July, 1988\n",
            "\n",
            "The famous Iris database, first used by Sir R.A. Fisher. The dataset is taken\n",
            "from Fisher's paper. Note that it's the same as in R, but not as in the UCI\n",
            "Machine Learning Repository, which has two wrong data points.\n",
            "\n",
            "This is perhaps the best known database to be found in the\n",
            "pattern recognition literature.  Fisher's paper is a classic in the field and\n",
            "is referenced frequently to this day.  (See Duda & Hart, for example.)  The\n",
            "data set contains 3 classes of 50 instances each, where each class refers to a\n",
            "type of iris plant.  One class is linearly separable from the other 2; the\n",
            "latter are NOT linearly separable from each other.\n",
            "\n",
            ".. topic:: References\n",
            "\n",
            "   - Fisher, R.A. \"The use of multiple measurements in taxonomic problems\"\n",
            "     Annual Eugenics, 7, Part II, 179-188 (1936); also in \"Contributions to\n",
            "     Mathematical Statistics\" (John Wiley, NY, 1950).\n",
            "   - Duda, R.O., & Hart, P.E. (1973) Pattern Classification and Scene Analysis.\n",
            "     (Q327.D83) John Wiley & Sons.  ISBN 0-471-22361-1.  See page 218.\n",
            "   - Dasarathy, B.V. (1980) \"Nosing Around the Neighborhood: A New System\n",
            "     Structure and Classification Rule for Recognition in Partially Exposed\n",
            "     Environments\".  IEEE Transactions on Pattern Analysis and Machine\n",
            "     Intelligence, Vol. PAMI-2, No. 1, 67-71.\n",
            "   - Gates, G.W. (1972) \"The Reduced Nearest Neighbor Rule\".  IEEE Transactions\n",
            "     on Information Theory, May 1972, 431-433.\n",
            "   - See also: 1988 MLC Proceedings, 54-64.  Cheeseman et al\"s AUTOCLASS II\n",
            "     conceptual clustering system finds 3 classes in the data.\n",
            "   - Many, many more ...\n"
          ]
        }
      ],
      "source": [
        "#print(iris)\n",
        "#print description\n",
        "print(iris.DESCR)\n",
        "#preprocessing the dataset\n"
      ]
    },
    {
      "cell_type": "code",
      "execution_count": null,
      "metadata": {
        "id": "RYnBB22V2Jbn",
        "outputId": "1395f6fd-711e-4bcd-a17d-b9873f61c5cd",
        "colab": {
          "base_uri": "https://localhost:8080/"
        }
      },
      "outputs": [
        {
          "output_type": "stream",
          "name": "stdout",
          "text": [
            "(150, 4)\n",
            "Training Set 120\n",
            "Test Set 30\n"
          ]
        }
      ],
      "source": [
        "#split the dataset into train and test data\n",
        "from sklearn.model_selection import train_test_split\n",
        "X_train, X_test, y_train, y_test = train_test_split(X, y, test_size=0.20,random_state =23)\n",
        "print(iris.data.shape)\n",
        "print('Training Set', len(X_train))\n",
        "print('Test Set', len(X_test))"
      ]
    },
    {
      "cell_type": "code",
      "execution_count": null,
      "metadata": {
        "id": "-0eNFQdH2Jbp",
        "outputId": "3edee5d9-eb39-45bd-ed87-74b1731de7c1",
        "colab": {
          "base_uri": "https://localhost:8080/"
        }
      },
      "outputs": [
        {
          "output_type": "execute_result",
          "data": {
            "text/plain": [
              "KNeighborsClassifier(n_neighbors=3)"
            ]
          },
          "metadata": {},
          "execution_count": 15
        }
      ],
      "source": [
        "#to train the model\n",
        "from sklearn.neighbors import KNeighborsClassifier\n",
        "knn=KNeighborsClassifier(n_neighbors=3)\n",
        "# Try with n_neighbors=60, n_neighbors=5\n",
        "# Check if it is overfitting or underfitting the model.\n",
        "knn.fit(X_train,y_train)"
      ]
    },
    {
      "cell_type": "code",
      "execution_count": null,
      "metadata": {
        "id": "uDOPJhEF2Jbq",
        "outputId": "d0bdb04e-24a6-4834-ed35-2e975b06d0cc",
        "colab": {
          "base_uri": "https://localhost:8080/"
        }
      },
      "outputs": [
        {
          "output_type": "stream",
          "name": "stdout",
          "text": [
            "[2 2 1 0 2 1 0 2 0 1 1 0 2 0 0 1 1 1 2 0 2 0 0 0 2 0 0 2 1 1]\n"
          ]
        }
      ],
      "source": [
        "#make prediction on test data, Classify\n",
        "y_pred=knn.predict(X_test)\n",
        "print(y_pred)"
      ]
    },
    {
      "cell_type": "code",
      "execution_count": null,
      "metadata": {
        "id": "BxKJ7QvH2Jbq",
        "outputId": "1fed0498-fed9-492f-a1f2-bbf48aeb7e4a",
        "colab": {
          "base_uri": "https://localhost:8080/"
        }
      },
      "outputs": [
        {
          "output_type": "stream",
          "name": "stdout",
          "text": [
            "accuracy= 0.9666666666666667\n",
            "[[12  0  0]\n",
            " [ 0  8  0]\n",
            " [ 0  1  9]]\n",
            "              precision    recall  f1-score   support\n",
            "\n",
            "           0       1.00      1.00      1.00        12\n",
            "           1       0.89      1.00      0.94         8\n",
            "           2       1.00      0.90      0.95        10\n",
            "\n",
            "    accuracy                           0.97        30\n",
            "   macro avg       0.96      0.97      0.96        30\n",
            "weighted avg       0.97      0.97      0.97        30\n",
            "\n"
          ]
        }
      ],
      "source": [
        "#compare the accuracy between the predicted and the actual output y_test\n",
        "from sklearn import metrics\n",
        "print(\"accuracy=\",metrics.accuracy_score(y_pred,y_test))\n",
        "from sklearn.metrics import classification_report, confusion_matrix\n",
        "print(confusion_matrix(y_test, y_pred))\n",
        "print(classification_report(y_test, y_pred))"
      ]
    },
    {
      "cell_type": "code",
      "execution_count": null,
      "metadata": {
        "id": "Hy-3SDhx2Jbr",
        "outputId": "73ad4914-6d86-462e-bf97-91da1d2af885",
        "colab": {
          "base_uri": "https://localhost:8080/"
        }
      },
      "outputs": [
        {
          "output_type": "stream",
          "name": "stdout",
          "text": [
            "pre_target= ['virginica', 'virginica', 'versicolor', 'setosa', 'virginica', 'versicolor', 'setosa', 'virginica', 'setosa', 'versicolor', 'versicolor', 'setosa', 'virginica', 'setosa', 'setosa', 'versicolor', 'versicolor', 'versicolor', 'virginica', 'setosa', 'virginica', 'setosa', 'setosa', 'setosa', 'virginica', 'setosa', 'setosa', 'virginica', 'versicolor', 'versicolor'] \n",
            "\n",
            "\n",
            "actual_target = ['virginica', 'virginica', 'versicolor', 'setosa', 'virginica', 'versicolor', 'setosa', 'virginica', 'setosa', 'versicolor', 'versicolor', 'setosa', 'virginica', 'setosa', 'setosa', 'virginica', 'versicolor', 'versicolor', 'virginica', 'setosa', 'virginica', 'setosa', 'setosa', 'setosa', 'virginica', 'setosa', 'setosa', 'virginica', 'versicolor', 'versicolor'] \n",
            "\n",
            "\n",
            "\t Predicted \t\tActual \t\t\tAnswer\n",
            "0 : virginica \t\t virginica \t\t\tYes\n",
            "1 : virginica \t\t virginica \t\t\tYes\n",
            "2 : versicolor \t\t versicolor \t\t\tYes\n",
            "3 : setosa \t\t setosa \t\t\tYes\n",
            "4 : virginica \t\t virginica \t\t\tYes\n",
            "5 : versicolor \t\t versicolor \t\t\tYes\n",
            "6 : setosa \t\t setosa \t\t\tYes\n",
            "7 : virginica \t\t virginica \t\t\tYes\n",
            "8 : setosa \t\t setosa \t\t\tYes\n",
            "9 : versicolor \t\t versicolor \t\t\tYes\n",
            "10 : versicolor \t\t versicolor \t\t\tYes\n",
            "11 : setosa \t\t setosa \t\t\tYes\n",
            "12 : virginica \t\t virginica \t\t\tYes\n",
            "13 : setosa \t\t setosa \t\t\tYes\n",
            "14 : setosa \t\t setosa \t\t\tYes\n",
            "15 : versicolor \t\t virginica \t\t\tNo\n",
            "16 : versicolor \t\t versicolor \t\t\tYes\n",
            "17 : versicolor \t\t versicolor \t\t\tYes\n",
            "18 : virginica \t\t virginica \t\t\tYes\n",
            "19 : setosa \t\t setosa \t\t\tYes\n",
            "20 : virginica \t\t virginica \t\t\tYes\n",
            "21 : setosa \t\t setosa \t\t\tYes\n",
            "22 : setosa \t\t setosa \t\t\tYes\n",
            "23 : setosa \t\t setosa \t\t\tYes\n",
            "24 : virginica \t\t virginica \t\t\tYes\n",
            "25 : setosa \t\t setosa \t\t\tYes\n",
            "26 : setosa \t\t setosa \t\t\tYes\n",
            "27 : virginica \t\t virginica \t\t\tYes\n",
            "28 : versicolor \t\t versicolor \t\t\tYes\n",
            "29 : versicolor \t\t versicolor \t\t\tYes\n"
          ]
        }
      ],
      "source": [
        "#to compare the actual and predicted are correct or wrong\n",
        "predicted=knn.predict(X_test)\n",
        "#create a list for all the predicted one target name\n",
        "pre_target=[iris.target_names[i] for i in predicted]\n",
        "print(\"pre_target=\",pre_target,\"\\n\\n\")\n",
        "#create a list for all the target names of y_test data\n",
        "actual_target=[iris.target_names[i] for i in y_test]\n",
        "print(\"actual_target =\",actual_target,\"\\n\\n\")\n",
        "print(\"\\t Predicted\",\"\\t\\tActual\",\"\\t\\t\\tAnswer\")\n",
        "for i in range(0,len(pre_target)):\n",
        "    print(i,\":\",pre_target[i],\"\\t\\t\",actual_target[i],\"\\t\\t\",end='\\t')\n",
        "    if(pre_target[i]==actual_target[i]):\n",
        "        print(\"Yes\")\n",
        "    else:\n",
        "        print(\"No\")"
      ]
    },
    {
      "cell_type": "code",
      "execution_count": null,
      "metadata": {
        "id": "cEH0f74X2Jbt",
        "outputId": "2e64f303-8347-4924-9773-76b1bed11e60",
        "colab": {
          "base_uri": "https://localhost:8080/"
        }
      },
      "outputs": [
        {
          "output_type": "stream",
          "name": "stdout",
          "text": [
            "[2]\n",
            "[2]\n",
            "correct\n"
          ]
        }
      ],
      "source": [
        "#checking with any one sample\n",
        "# Just for understanding.\n",
        "sam=[X_test[18]]\n",
        "a=knn.predict(sam)\n",
        "print(a)\n",
        "sam1=[y_test[18]]\n",
        "print(sam1)\n",
        "if(a==sam1):\n",
        "    print(\"correct\")\n",
        "else:\n",
        "    print(\"wrong\")"
      ]
    },
    {
      "cell_type": "markdown",
      "metadata": {
        "id": "ZnXFsA422Jbu"
      },
      "source": [
        "<pre>\n",
        "    Predicted\n",
        "Actual\n",
        "       0    1    2\n",
        "0|    11(T0)    0    0\n",
        "1|    0     6(T1)    0(F2)\n",
        "2|    0     0    13(T2)\n",
        "</pre>"
      ]
    },
    {
      "cell_type": "code",
      "execution_count": null,
      "metadata": {
        "id": "m5bbGiOs2Jbx"
      },
      "outputs": [],
      "source": [
        "#Visualization\n",
        "# Just for understanding.\n",
        "import numpy as np\n",
        "import pandas as pd\n",
        "from mlxtend.plotting import plot_decision_regions\n",
        "from sklearn.datasets import load_iris\n",
        "from sklearn.neighbors import KNeighborsClassifier\n",
        "iris=load_iris()\n",
        "X = pd.DataFrame(iris.data)\n",
        "X.columns = ['Sepal_Length','Sepal_Width','Petal_Length','Petal_Width']\n",
        "Y = pd.DataFrame(iris.target)\n",
        "Y.columns = ['Targets']\n"
      ]
    },
    {
      "cell_type": "code",
      "execution_count": null,
      "metadata": {
        "id": "a8AnmI0h2Jb0",
        "outputId": "21375519-c9ac-4b7d-f3b9-4878e28382af",
        "colab": {
          "base_uri": "https://localhost:8080/",
          "height": 350
        }
      },
      "outputs": [
        {
          "output_type": "stream",
          "name": "stderr",
          "text": [
            "/usr/local/lib/python3.8/dist-packages/mlxtend/plotting/decision_regions.py:244: MatplotlibDeprecationWarning: Passing unsupported keyword arguments to axis() will raise a TypeError in 3.3.\n",
            "  ax.axis(xmin=xx.min(), xmax=xx.max(), y_min=yy.min(), y_max=yy.max())\n"
          ]
        },
        {
          "output_type": "display_data",
          "data": {
            "text/plain": [
              "<Figure size 432x288 with 1 Axes>"
            ],
            "image/png": "[encoded data removed]"
          },
          "metadata": {
            "needs_background": "light"
          }
        }
      ],
      "source": [
        "k=1\n",
        "import matplotlib.pyplot as plt\n",
        "x = X[['Petal_Width', 'Petal_Length']].values\n",
        "y = Y['Targets'].astype(int).values\n",
        "clf = KNeighborsClassifier(n_neighbors=k)\n",
        "clf.fit(x, y)\n",
        "# Plotting decision region\n",
        "plot_decision_regions(x, y, clf=clf, legend=2)\n",
        "# Adding axes annotations\n",
        "plt.xlabel('Petal Width')\n",
        "plt.ylabel('Petal Height')\n",
        "plt.title(f'Knn with K={k}')\n",
        "plt.show()"
      ]
    },
    {
      "cell_type": "code",
      "execution_count": null,
      "metadata": {
        "id": "yf7ukwwK2Jb1",
        "colab": {
          "base_uri": "https://localhost:8080/"
        },
        "outputId": "f6174bff-997b-426b-fc0c-d03002526115"
      },
      "outputs": [
        {
          "output_type": "stream",
          "name": "stdout",
          "text": [
            "Looking in indexes: https://pypi.org/simple, https://us-python.pkg.dev/colab-wheels/public/simple/\n",
            "Requirement already satisfied: mlxtend in /usr/local/lib/python3.8/dist-packages (0.14.0)\n",
            "Requirement already satisfied: numpy>=1.10.4 in /usr/local/lib/python3.8/dist-packages (from mlxtend) (1.21.6)\n",
            "Requirement already satisfied: scipy>=0.17 in /usr/local/lib/python3.8/dist-packages (from mlxtend) (1.7.3)\n",
            "Requirement already satisfied: scikit-learn>=0.18 in /usr/local/lib/python3.8/dist-packages (from mlxtend) (1.0.2)\n",
            "Requirement already satisfied: setuptools in /usr/local/lib/python3.8/dist-packages (from mlxtend) (57.4.0)\n",
            "Requirement already satisfied: pandas>=0.17.1 in /usr/local/lib/python3.8/dist-packages (from mlxtend) (1.3.5)\n",
            "Requirement already satisfied: matplotlib>=1.5.1 in /usr/local/lib/python3.8/dist-packages (from mlxtend) (3.2.2)\n",
            "Requirement already satisfied: python-dateutil>=2.1 in /usr/local/lib/python3.8/dist-packages (from matplotlib>=1.5.1->mlxtend) (2.8.2)\n",
            "Requirement already satisfied: pyparsing!=2.0.4,!=2.1.2,!=2.1.6,>=2.0.1 in /usr/local/lib/python3.8/dist-packages (from matplotlib>=1.5.1->mlxtend) (3.0.9)\n",
            "Requirement already satisfied: kiwisolver>=1.0.1 in /usr/local/lib/python3.8/dist-packages (from matplotlib>=1.5.1->mlxtend) (1.4.4)\n",
            "Requirement already satisfied: cycler>=0.10 in /usr/local/lib/python3.8/dist-packages (from matplotlib>=1.5.1->mlxtend) (0.11.0)\n",
            "Requirement already satisfied: pytz>=2017.3 in /usr/local/lib/python3.8/dist-packages (from pandas>=0.17.1->mlxtend) (2022.6)\n",
            "Requirement already satisfied: six>=1.5 in /usr/local/lib/python3.8/dist-packages (from python-dateutil>=2.1->matplotlib>=1.5.1->mlxtend) (1.15.0)\n",
            "Requirement already satisfied: threadpoolctl>=2.0.0 in /usr/local/lib/python3.8/dist-packages (from scikit-learn>=0.18->mlxtend) (3.1.0)\n",
            "Requirement already satisfied: joblib>=0.11 in /usr/local/lib/python3.8/dist-packages (from scikit-learn>=0.18->mlxtend) (1.2.0)\n"
          ]
        }
      ],
      "source": [
        "pip install mlxtend"
      ]
    }
  ],
  "metadata": {
    "kernelspec": {
      "display_name": "Python 3",
      "language": "python",
      "name": "python3"
    },
    "language_info": {
      "codemirror_mode": {
        "name": "ipython",
        "version": 3
      },
      "file_extension": ".py",
      "mimetype": "text/x-python",
      "name": "python",
      "nbconvert_exporter": "python",
      "pygments_lexer": "ipython3",
      "version": "3.8.8"
    },
    "colab": {
      "provenance": []
    }
  },
  "nbformat": 4,
  "nbformat_minor": 0
}