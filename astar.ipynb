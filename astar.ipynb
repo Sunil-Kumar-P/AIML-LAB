{
 "cells": [
  {
   "cell_type": "code",
   "execution_count": 1,
   "id": "b2afd2ca",
   "metadata": {},
   "outputs": [],
   "source": [
    "import math\n",
    "class Node():\n",
    "    def __init__(self,parent=None,position=None):\n",
    "        self.parent=parent\n",
    "        self.position=position\n",
    "        self.g=0\n",
    "        self.h=0\n",
    "        self.f=0\n",
    "    def __eq__(self,other):\n",
    "        return self.position==other.position                "
   ]
  },
  {
   "cell_type": "code",
   "execution_count": 2,
   "id": "ba2cf8d0",
   "metadata": {},
   "outputs": [],
   "source": [
    " def pop_queue(que):\n",
    "        current_node=que[0]\n",
    "        current_index=0\n",
    "        for index,item in enumerate(que):\n",
    "            if item.f<current_node.f:\n",
    "                current_node=item\n",
    "                current_index=index\n",
    "        return que.pop(current_index)"
   ]
  },
  {
   "cell_type": "code",
   "execution_count": 3,
   "id": "3dd08e79",
   "metadata": {},
   "outputs": [],
   "source": [
    "def astar(maze,start,end):\n",
    "        start_node=Node(None,start)\n",
    "        start_node.g=start_node.h=start_node.f=0\n",
    "        end_node=Node(None,end)\n",
    "        end_node.g=end_node.h=start_node.f=0\n",
    "    \n",
    "        open_list=[]\n",
    "        closed_list=[]\n",
    "    \n",
    "        open_list.append(start_node)\n",
    "        while len(open_list)>0:\n",
    "            current_node=pop_queue(open_list)\n",
    "            closed_list.append(current_node)\n",
    "            if current_node==end_node:\n",
    "                path=[]\n",
    "                current=current_node\n",
    "                while current is not None:\n",
    "                    path.append(current.position)\n",
    "                    current=current.parent\n",
    "                return path[::-1]\n",
    "            children=[]\n",
    "            for new_position in [(0,-1),(0,1),(-1,0),(1,0)]:\n",
    "                node_position=(current_node.position[0] + new_position[0],current_node.position[1] + new_position[1])\n",
    "                if node_position[0]>(len(maze)-1) or node_position[0] < 0 or node_position[1] > \\\n",
    "                (len(maze[len(maze)-1])-1) or node_position[1] < 0:\n",
    "                    continue\n",
    "                if maze[node_position[0]][node_position[1]]!=0:\n",
    "                    continue\n",
    "                new_node=Node(current_node,node_position)\n",
    "                \n",
    "                children.append(new_node)\n",
    "            for child in children:\n",
    "                child_in_closed = False\n",
    "                for closed_child in closed_list:\n",
    "                    if child==closed_child:\n",
    "                        child_in_closed=True\n",
    "                        break\n",
    "                if child_in_closed:\n",
    "                    continue\n",
    "                \n",
    "                dx_move=child.position[0]-current_node.position[0]\n",
    "                dy_move=child.position[1]-current_node.position[1]\n",
    "                move_cost=math.sqrt(dx_move **2 + dy_move **2)\n",
    "                child.g = current_node.g + move_cost\n",
    "                dx=abs(child.position[0] - end_node.position[0])\n",
    "                dy=abs(child.position[1] - end_node.position[1])\n",
    "                \n",
    "                D=1\n",
    "                D2=1\n",
    "                \n",
    "                child.h=math.sqrt((child.position[0]-end_node.position[0] **2)+ ((child.position[1] - end_node.position[1]) **2))\n",
    "                child.f=child.g+child.h\n",
    "                \n",
    "                discard_child=False\n",
    "                for open_node in open_list:\n",
    "                    if child==open_node:\n",
    "                        if child.g < open_node.g:\n",
    "                            open_node.g = child.g\n",
    "                            open_node.f = open_node.g + open_node.h\n",
    "                            open_node.parent = current_node\n",
    "                        discard_child = True\n",
    "                        break\n",
    "                if discard_child==False:\n",
    "                    open_list.append(child)\n",
    "        return \"No path Found\""
   ]
  },
  {
   "cell_type": "code",
   "execution_count": 4,
   "id": "6d1dcd68",
   "metadata": {},
   "outputs": [],
   "source": [
    " def main():\n",
    "        maze=[[0,0,0,0,1,0,0,0,0,0],\n",
    "              [1,1,0,1,1,0,0,0,0,0],\n",
    "              [0,0,0,0,1,0,0,0,0,0],\n",
    "              [0,1,1,1,0,0,1,0,0,0],\n",
    "              [0,0,0,0,1,0,0,0,0,0],\n",
    "              [1,1,0,1,1,0,1,0,0,0],\n",
    "              [0,0,0,0,1,0,1,0,0,0],\n",
    "              [0,0,0,0,1,0,1,0,0,0],\n",
    "              [0,0,0,0,0,0,0,0,0,0]]\n",
    "        start=(0,0)\n",
    "        end=(0,9)\n",
    "        path=astar(maze,start,end)\n",
    "        print(path)\n",
    "        "
   ]
  },
  {
   "cell_type": "code",
   "execution_count": 5,
   "id": "a891f17b",
   "metadata": {},
   "outputs": [
    {
     "name": "stdout",
     "output_type": "stream",
     "text": [
      "[(0, 0), (0, 1), (0, 2), (1, 2), (2, 2), (2, 1), (2, 0), (3, 0), (4, 0), (4, 1), (4, 2), (5, 2), (6, 2), (6, 3), (7, 3), (8, 3), (8, 4), (8, 5), (8, 6), (8, 7), (8, 8), (8, 9), (7, 9), (6, 9), (5, 9), (4, 9), (3, 9), (2, 9), (1, 9), (0, 9)]\n"
     ]
    }
   ],
   "source": [
    "  \n",
    "        \n",
    "        \n",
    "if __name__ == '__main__':\n",
    "    main()"
   ]
  },
  {
   "cell_type": "code",
   "execution_count": null,
   "id": "6bc35bd9",
   "metadata": {},
   "outputs": [],
   "source": []
  },
  {
   "cell_type": "code",
   "execution_count": null,
   "id": "55561235",
   "metadata": {},
   "outputs": [],
   "source": []
  }
 ],
 "metadata": {
  "kernelspec": {
   "display_name": "Python 3 (ipykernel)",
   "language": "python",
   "name": "python3"
  },
  "language_info": {
   "codemirror_mode": {
    "name": "ipython",
    "version": 3
   },
   "file_extension": ".py",
   "mimetype": "text/x-python",
   "name": "python",
   "nbconvert_exporter": "python",
   "pygments_lexer": "ipython3",
   "version": "3.10.4"
  }
 },
 "nbformat": 4,
 "nbformat_minor": 5
}
